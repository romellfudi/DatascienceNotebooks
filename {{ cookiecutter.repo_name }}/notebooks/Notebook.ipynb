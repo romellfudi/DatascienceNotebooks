{
 "cells": [
  {
   "cell_type": "code",
   "execution_count": null,
   "metadata": {},
   "outputs": [],
   "source": [
    "import warnings\n",
    "warnings.filterwarnings(action='once')\n",
    "# warnings.simplefilter('ignore' )\n",
    "\n",
    "# %pylab inline\n",
    "%matplotlib inline\n",
    "%config InlineBackend.figure_format = 'retina'\n",
    "import matplotlib.pyplot as plt\n",
    "plt.rcParams['figure.figsize'] = (18,6)\n",
    "plt.rcParams['axes.titlesize'] = 40\n",
    "plt.rcParams['axes.labelsize'] = 25\n",
    "plt.rcParams['ytick.labelsize'] = 15\n",
    "plt.rcParams['xtick.labelsize'] = 15\n",
    "import numpy as np\n",
    "import pandas as pd\n",
    "from sklearn.model_selection import train_test_split\n",
    "from sklearn import datasets\n",
    "# pd.options.display.float_format = '{:,.2f}'.format\n",
    "#pd.set_option('display.max_columns', 20)\n",
    "#pd.set_option('display.max_rows', 25)\n",
    "# np.set_printoptions(threshold=np.nan)\n",
    "from __future__ import division\n",
    "from matplotlib.colors import ListedColormap\n",
    "cmap_light = ListedColormap(['#FFAAAA', '#AAFFAA', '#AAAAFF'])"
   ]
  }
 ],
 "metadata": {
  "kernelspec": {
   "display_name": "Python 3",
   "language": "python",
   "name": "python3"
  },
  "language_info": {
   "codemirror_mode": {
    "name": "ipython",
    "version": 3
   },
   "file_extension": ".py",
   "mimetype": "text/x-python",
   "name": "python",
   "nbconvert_exporter": "python",
   "pygments_lexer": "ipython3",
   "version": "3.6.4"
  }
 },
 "nbformat": 4,
 "nbformat_minor": 2
}
